{
 "cells": [
  {
   "cell_type": "code",
   "execution_count": null,
   "metadata": {},
   "outputs": [],
   "source": [
    "import wandb\n",
    "api = wandb.Api()\n",
    "runs = api.runs('DocAI_NdLinear')\n",
    "variants = {run.name: run for run in runs}\n",
    "variants.keys()"
   ]
  },
  {
   "cell_type": "code",
   "execution_count": null,
   "metadata": {},
   "outputs": [],
   "source": [
    "import matplotlib.pyplot as plt\n",
    "for name, run in variants.items():\n",
    "    history = run.history(keys=['train/loss', 'eval/f1'], pandas=True)\n",
    "    plt.figure()\n",
    "    plt.plot(history['train/loss'], label='Loss')\n",
    "    plt.plot(history['eval/f1'], label='F1')\n",
    "    plt.title(name)\n",
    "    plt.legend()\n",
    "    plt.show()"
   ]
  },
  {
   "cell_type": "code",
   "execution_count": null,
   "metadata": {},
   "outputs": [],
   "source": [
    "import pandas as pd\n",
    "data = []\n",
    "for name, run in variants.items():\n",
    "    summary = run.summary\n",
    "    data.append({\n",
    "        'model': name,\n",
    "        'f1': summary.get('eval/f1'),\n",
    "        'precision': summary.get('eval/precision'),\n",
    "        'recall': summary.get('eval/recall'),\n",
    "    })\n",
    "df = pd.DataFrame(data)\n",
    "df"
   ]
  },
  {
   "cell_type": "code",
   "execution_count": null,
   "metadata": {},
   "outputs": [],
   "source": []
  }
 ],
 "metadata": {
  "kernelspec": {
   "display_name": "Python 3",
   "language": "python",
   "name": "python3"
  },
  "language_info": {
   "name": "python",
   "version": "3.12.9"
  }
 },
 "nbformat": 4,
 "nbformat_minor": 2
}
